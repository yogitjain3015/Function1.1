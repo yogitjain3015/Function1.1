{
  "nbformat": 4,
  "nbformat_minor": 0,
  "metadata": {
    "colab": {
      "provenance": [],
      "authorship_tag": "ABX9TyMXl9lo9xR/By7nQfihV4oW",
      "include_colab_link": true
    },
    "kernelspec": {
      "name": "python3",
      "display_name": "Python 3"
    },
    "language_info": {
      "name": "python"
    }
  },
  "cells": [
    {
      "cell_type": "markdown",
      "metadata": {
        "id": "view-in-github",
        "colab_type": "text"
      },
      "source": [
        "<a href=\"https://colab.research.google.com/github/yogitjain3015/Function1.1/blob/main/function1.ipynb\" target=\"_parent\"><img src=\"https://colab.research.google.com/assets/colab-badge.svg\" alt=\"Open In Colab\"/></a>"
      ]
    },
    {
      "cell_type": "code",
      "execution_count": null,
      "metadata": {
        "colab": {
          "base_uri": "https://localhost:8080/"
        },
        "id": "K4EDSvgEYrzn",
        "outputId": "3f658128-cd41-4d00-cea9-ad10ecbd7dd6"
      },
      "outputs": [
        {
          "output_type": "stream",
          "name": "stdout",
          "text": [
            "enter word to check : Mississippi\n",
            "{'M': 1, 'i': 4, 's': 4, 'p': 2}\n"
          ]
        }
      ],
      "source": [
        "def most_frequent(string):\n",
        "\n",
        "  d = dict()\n",
        "\n",
        "  for key in string:\n",
        "\n",
        "    if key not in d:\n",
        "\n",
        "      d[key] = 1\n",
        "\n",
        "    else:\n",
        "\n",
        "      d[key] += 1\n",
        "\n",
        "  return d\n",
        "\n",
        "word=input(\"enter word to check : \")\n",
        "\n",
        "print(most_frequent(word))"
      ]
    }
  ]
}